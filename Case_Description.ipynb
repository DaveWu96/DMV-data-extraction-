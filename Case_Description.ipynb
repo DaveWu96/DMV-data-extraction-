{
 "cells": [
  {
   "cell_type": "code",
   "execution_count": 2,
   "metadata": {},
   "outputs": [],
   "source": [
    "#pip install spacy"
   ]
  },
  {
   "cell_type": "code",
   "execution_count": 9,
   "metadata": {},
   "outputs": [],
   "source": [
    "#pip install -U spacy"
   ]
  },
  {
   "cell_type": "code",
   "execution_count": null,
   "metadata": {},
   "outputs": [],
   "source": []
  },
  {
   "cell_type": "code",
   "execution_count": null,
   "metadata": {},
   "outputs": [],
   "source": []
  },
  {
   "cell_type": "code",
   "execution_count": 1,
   "metadata": {},
   "outputs": [],
   "source": [
    "import spacy\n",
    "from spacy.language import Language\n",
    "from spacy.tokens import Doc, Span, Token\n",
    "from spacy.matcher import Matcher\n",
    "import os\n",
    "import numpy as np\n",
    "import pandas as pd\n",
    "\n",
    "nlp = spacy.load(\"en_core_web_lg\")"
   ]
  },
  {
   "cell_type": "code",
   "execution_count": 2,
   "metadata": {},
   "outputs": [],
   "source": [
    "path = 'C:/Users/Jason/Code'\n",
    "file = 'test_ex.csv'\n",
    "\n",
    "inputfile = os.path.join(path, file)"
   ]
  },
  {
   "cell_type": "code",
   "execution_count": 3,
   "metadata": {},
   "outputs": [],
   "source": [
    "def read_data(inputfile):\n",
    "    df = pd.read_csv(inputfile)\n",
    "    return df"
   ]
  },
  {
   "cell_type": "code",
   "execution_count": 4,
   "metadata": {},
   "outputs": [
    {
     "data": {
      "text/html": [
       "<div>\n",
       "<style scoped>\n",
       "    .dataframe tbody tr th:only-of-type {\n",
       "        vertical-align: middle;\n",
       "    }\n",
       "\n",
       "    .dataframe tbody tr th {\n",
       "        vertical-align: top;\n",
       "    }\n",
       "\n",
       "    .dataframe thead th {\n",
       "        text-align: right;\n",
       "    }\n",
       "</style>\n",
       "<table border=\"1\" class=\"dataframe\">\n",
       "  <thead>\n",
       "    <tr style=\"text-align: right;\">\n",
       "      <th></th>\n",
       "      <th>Unnamed: 0</th>\n",
       "      <th>IS No.</th>\n",
       "      <th>Dates</th>\n",
       "      <th>Incident Type</th>\n",
       "      <th>Disposition</th>\n",
       "      <th>Case Description</th>\n",
       "      <th>Additional Information</th>\n",
       "    </tr>\n",
       "  </thead>\n",
       "  <tbody>\n",
       "    <tr>\n",
       "      <th>0</th>\n",
       "      <td>1</td>\n",
       "      <td>15002139 Sustained/Disclose</td>\n",
       "      <td>Incident: 9/4/2015 Disposition: 11/30/2015 DRB...</td>\n",
       "      <td>Orders/Directives Violation Orders/Directives ...</td>\n",
       "      <td>Case: Sustained Member Disposition: Misconduct...</td>\n",
       "      <td>Synopsis: On 9-4-15 members arrested Defendant...</td>\n",
       "      <td>MPD sustained a finding for a violation of Gen...</td>\n",
       "    </tr>\n",
       "    <tr>\n",
       "      <th>1</th>\n",
       "      <td>4</td>\n",
       "      <td>15002432 Pending</td>\n",
       "      <td>Incident: 8/29/2015 Disposition: 5/2/2016 DRB:...</td>\n",
       "      <td>OPC OPC -  Harassment</td>\n",
       "      <td>Case: OPC Dismissed Member Disposition: OPC --...</td>\n",
       "      <td>Synopsis: OPC(15-0392)is investigating allegat...</td>\n",
       "      <td>IS-Related Documents:</td>\n",
       "    </tr>\n",
       "  </tbody>\n",
       "</table>\n",
       "</div>"
      ],
      "text/plain": [
       "   Unnamed: 0                       IS No.  \\\n",
       "0           1  15002139 Sustained/Disclose   \n",
       "1           4             15002432 Pending   \n",
       "\n",
       "                                               Dates  \\\n",
       "0  Incident: 9/4/2015 Disposition: 11/30/2015 DRB...   \n",
       "1  Incident: 8/29/2015 Disposition: 5/2/2016 DRB:...   \n",
       "\n",
       "                                       Incident Type  \\\n",
       "0  Orders/Directives Violation Orders/Directives ...   \n",
       "1                              OPC OPC -  Harassment   \n",
       "\n",
       "                                         Disposition  \\\n",
       "0  Case: Sustained Member Disposition: Misconduct...   \n",
       "1  Case: OPC Dismissed Member Disposition: OPC --...   \n",
       "\n",
       "                                    Case Description  \\\n",
       "0  Synopsis: On 9-4-15 members arrested Defendant...   \n",
       "1  Synopsis: OPC(15-0392)is investigating allegat...   \n",
       "\n",
       "                              Additional Information  \n",
       "0  MPD sustained a finding for a violation of Gen...  \n",
       "1                              IS-Related Documents:  "
      ]
     },
     "execution_count": 4,
     "metadata": {},
     "output_type": "execute_result"
    }
   ],
   "source": [
    "df = read_data(inputfile)\n",
    "df"
   ]
  },
  {
   "cell_type": "code",
   "execution_count": 9,
   "metadata": {},
   "outputs": [],
   "source": [
    "\n",
    "\n",
    "matcher7 = Matcher(nlp.vocab)\n",
    "matcher8 = Matcher(nlp.vocab)\n",
    "\n",
    "\n",
    "\n",
    "##Case Description\n",
    "#Synopsis\n",
    "Synpattern = [\n",
    "    {'LOWER' : {'IN': ['synopsis'] } },\n",
    "    {'POS': 'PUNCT'},\n",
    "    {'OP': '*', 'LOWER' : {'NOT_IN': ['investigative'] } }\n",
    "]\n",
    "\n",
    "Invpattern = [\n",
    "    {'LOWER' : {'IN': ['investigative'] } },\n",
    "    {'LOWER' : {'IN': ['notes'] } },\n",
    "    {'POS': 'PUNCT'},\n",
    "    {'OP': '*'}\n",
    "]\n",
    "\n",
    "\n",
    "\n",
    "\n",
    "\n",
    "matcher7.add(\"matcher7\", [Synpattern])\n",
    "matcher8.add(\"matcher8\", [Invpattern])\n",
    "\n",
    "\n"
   ]
  },
  {
   "cell_type": "code",
   "execution_count": 10,
   "metadata": {},
   "outputs": [
    {
     "name": "stdout",
     "output_type": "stream",
     "text": [
      "Synopsis: On 9-4-15 members arrested Defendant ||||||||||| for AWIK that took place on 8-30-15 in the 1200 block of Crittenden Street NW.  A firearm was found in the prisoner's compartment of the transport vehicle that took Defendant ||||||||||| to Fourth District for processing. Investigative Notes: received IAB 11/30/15 - SUSTIANED for all members involved - Official Reprimands were issued to Banks, Symanski, and Thompson. Adverse Action for Alacron and Molinari. -AR\n",
      " \n",
      "Synopsis: On 9-4-15 members arrested Defendant ||||||||||| for AWIK that took place on 8-30-15 in the 1200 block of Crittenden Street NW.  A firearm was found in the prisoner's compartment of the transport vehicle that took Defendant ||||||||||| to Fourth District for processing.\n",
      " \n",
      " \n",
      "Investigative Notes: received IAB 11/30/15 - SUSTIANED for all members involved - Official Reprimands were issued to Banks, Symanski, and Thompson. Adverse Action for Alacron and Molinari. -AR\n",
      " \n",
      "Synopsis: OPC(15-0392)is investigating allegations of harassment as reported by C1(|||||||||||) after being stopped by officers for investigative purposes. Investigative Notes: 05-16-16:OPC concluded there is not reasonable cause to believe police misconduct occurred. DV\n",
      " \n",
      "Synopsis: OPC(15-0392)is investigating allegations of harassment as reported by C1(|||||||||||) after being stopped by officers for\n",
      " \n",
      " \n",
      "Investigative Notes: 05-16-16:OPC concluded there is not reasonable cause to believe police misconduct occurred. DV\n",
      " \n"
     ]
    }
   ],
   "source": [
    "\n",
    "for i in df.index:\n",
    "    #text = df['IS No.'][i]     #enable for IS No. pattern\n",
    "    \n",
    "    text = df['Case Description'][i]\n",
    "    print(text)\n",
    "    doc = nlp(text)\n",
    "    matches7 = matcher7(doc)\n",
    "    matches8 = matcher8(doc)\n",
    "    \n",
    "#  span2 so it doesn't include \"Case:\" ---- CASE        \n",
    "    for match_id, start, end in matches7:\n",
    "        string_id = nlp.vocab.strings[match_id]  \n",
    "        span7 = doc[start: end]\n",
    "        span7 = span7[2:len(span7)]\n",
    "    print(\" \")\n",
    "    print(\"Synopsis: \" + span7.text)\n",
    "    print(\" \")\n",
    "    \n",
    "    for match_id, start, end in matches8:\n",
    "        string_id = nlp.vocab.strings[match_id]  \n",
    "        span8 = doc[start: end]\n",
    "        span8 = span8[3:len(span8)]\n",
    "    print(\" \")\n",
    "    print(\"Investigative Notes: \" + span8.text)\n",
    "    print(\" \")\n",
    "    \n",
    "    \n",
    "\n",
    "\n",
    "\n",
    "    \n"
   ]
  },
  {
   "cell_type": "code",
   "execution_count": null,
   "metadata": {},
   "outputs": [],
   "source": []
  },
  {
   "cell_type": "code",
   "execution_count": null,
   "metadata": {},
   "outputs": [],
   "source": []
  },
  {
   "cell_type": "code",
   "execution_count": null,
   "metadata": {},
   "outputs": [],
   "source": []
  },
  {
   "cell_type": "code",
   "execution_count": null,
   "metadata": {},
   "outputs": [],
   "source": []
  },
  {
   "cell_type": "code",
   "execution_count": 18,
   "metadata": {},
   "outputs": [],
   "source": [
    "text = \"15002139 Sustained/Disclose\"\n"
   ]
  },
  {
   "cell_type": "code",
   "execution_count": null,
   "metadata": {},
   "outputs": [],
   "source": []
  },
  {
   "cell_type": "code",
   "execution_count": 98,
   "metadata": {},
   "outputs": [
    {
     "name": "stdout",
     "output_type": "stream",
     "text": [
      "Case NOUN NN\n",
      ": PUNCT :\n",
      "OPC PROPN NNP\n",
      "Dismissed VERB VBD\n",
      "Member PROPN NNP\n",
      "Disposition PROPN NNP\n",
      ": PUNCT :\n",
      "OPC PROPN NNP\n",
      "-- PUNCT :\n",
      "Harassment NOUN NN\n",
      ": PUNCT :\n",
      "OPC PROPN NNP\n",
      "Dismissed VERB VBD\n",
      "IAD PROPN NNP\n",
      "Discipline PROPN NNP\n",
      ": PUNCT :\n",
      "DRB PROPN NNP\n",
      "Disposition PROPN NNP\n",
      ": PUNCT :\n",
      "DRB PROPN NNP\n",
      "Discipline PROPN NNP\n",
      ": PUNCT :\n"
     ]
    }
   ],
   "source": [
    "# text = \"15002139 Sustained/Disclose\"\n",
    "#text = \"Incident: 9/4/2015 Disposition: 11/30/2015 DRB:\"\n",
    "# text = \"\"\"Case: Sustained Member Disposition: Misconduct Allegations - - Orders/Directives Violation : \n",
    "# Sustained IAD Discipline: Official Reprimand DRB Disposition: DRB Discipline:\"\"\"\n",
    "\n",
    "text = \"\"\"Case: OPC Dismissed Member Disposition: OPC -- Harassment : OPC Dismissed IAD Discipline: DRB Disposition: DRB Discipline:\"\"\"\n",
    "\n",
    "doc = nlp(text)\n",
    "\n",
    "for token in doc:\n",
    "    print(token.text, token.pos_, token.tag_)"
   ]
  },
  {
   "cell_type": "code",
   "execution_count": 15,
   "metadata": {},
   "outputs": [
    {
     "ename": "NameError",
     "evalue": "name 'doc' is not defined",
     "output_type": "error",
     "traceback": [
      "\u001b[1;31m---------------------------------------------------------------------------\u001b[0m",
      "\u001b[1;31mNameError\u001b[0m                                 Traceback (most recent call last)",
      "\u001b[1;32m<ipython-input-15-2abfe8fef8c4>\u001b[0m in \u001b[0;36m<module>\u001b[1;34m\u001b[0m\n\u001b[1;32m----> 1\u001b[1;33m \u001b[1;32mfor\u001b[0m \u001b[0mtoken\u001b[0m \u001b[1;32min\u001b[0m \u001b[0mdoc\u001b[0m\u001b[1;33m:\u001b[0m\u001b[1;33m\u001b[0m\u001b[1;33m\u001b[0m\u001b[0m\n\u001b[0m\u001b[0;32m      2\u001b[0m     \u001b[0mprint\u001b[0m\u001b[1;33m(\u001b[0m\u001b[0mtoken\u001b[0m\u001b[1;33m.\u001b[0m\u001b[0mtext\u001b[0m\u001b[1;33m,\u001b[0m \u001b[0mtoken\u001b[0m\u001b[1;33m.\u001b[0m\u001b[0mpos_\u001b[0m\u001b[1;33m,\u001b[0m \u001b[0mtoken\u001b[0m\u001b[1;33m.\u001b[0m\u001b[0mtag_\u001b[0m\u001b[1;33m)\u001b[0m\u001b[1;33m\u001b[0m\u001b[1;33m\u001b[0m\u001b[0m\n",
      "\u001b[1;31mNameError\u001b[0m: name 'doc' is not defined"
     ]
    }
   ],
   "source": [
    "for token in doc:\n",
    "    print(token.text, token.pos_, token.tag_)"
   ]
  },
  {
   "cell_type": "code",
   "execution_count": null,
   "metadata": {},
   "outputs": [],
   "source": []
  }
 ],
 "metadata": {
  "kernelspec": {
   "display_name": "Python 3",
   "language": "python",
   "name": "python3"
  },
  "language_info": {
   "codemirror_mode": {
    "name": "ipython",
    "version": 3
   },
   "file_extension": ".py",
   "mimetype": "text/x-python",
   "name": "python",
   "nbconvert_exporter": "python",
   "pygments_lexer": "ipython3",
   "version": "3.8.3"
  }
 },
 "nbformat": 4,
 "nbformat_minor": 4
}
